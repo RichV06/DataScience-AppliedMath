{
 "cells": [
  {
   "attachments": {},
   "cell_type": "markdown",
   "metadata": {
    "colab_type": "text",
    "id": "GItxU96mTk16"
   },
   "source": [
    "# Matemática para Ciencia de los Datos\n",
    "# Trabajo Práctico 2\n",
    "\n",
    "Profesor: Luis Alexánder Calvo Valverde \n",
    "\n",
    "Instituto Tecnológico de Costa Rica, \n",
    "\n",
    "Programa Ciencia de Datos\n",
    "\n",
    "---\n",
    "\n",
    "Fecha de entrega: Lunes 8 de Mayo del 2023, a más tardar a las 3:00 pm.\n",
    "\n",
    "Medio de entrega: Por medio del TEC-Digital.\n",
    "\n",
    "Entregables: Un archivo jupyter ( .IPYNB ). \n",
    "\n",
    "Estudiante(s):\n",
    "1. **Ricardo Chacon**\n",
    "1. **Gabriel Valentine**\n"
   ]
  },
  {
   "cell_type": "markdown",
   "metadata": {
    "colab_type": "text",
    "id": "tgcoZAm82q8Y"
   },
   "source": [
    "\n",
    "---\n",
    "\n",
    "**Pregunta 1**\n",
    "\n",
    "Considerando que la transpuesta de una matriz es el resultado de cambiar las filas a columnas. Sea una matriz $A\\in\\mathbb{R}^{m\\times n}$, su transpuesta se escribe como $A^{T}\\in\\mathbb{R}^{n\\times m}$ y sus entradas están dadas por: \n",
    "\n",
    "\\begin{equation}\n",
    "\\left(A^{T}\\right)_{i,j}=A_{j,i}.\n",
    "\\end{equation}\n",
    "\n",
    "Proponga Usted dos matrices, $A\\in\\mathbb{R}^{4\\times 3}$ y $B\\in\\mathbb{R}^{3\\times 4}$ (no las busque en Internet, trate de proponer los valores por si mismo), y utilizando numpy muestre que las siguientes propiedades se cumplen con sus matrices propuestas.\n",
    "\n",
    "**Note** que ni A ni B son cuadradas, y no tienen las mismas dimensiones.\n"
   ]
  },
  {
   "cell_type": "markdown",
   "metadata": {},
   "source": [
    "**1.1 (15 puntos)**\n",
    "\n",
    "- $\\left(A^{T}\\right)^{T}=A$\n"
   ]
  },
  {
   "cell_type": "code",
   "execution_count": 6,
   "metadata": {},
   "outputs": [
    {
     "name": "stdout",
     "output_type": "stream",
     "text": [
      "[[ True  True  True  True]\n",
      " [ True  True  True  True]\n",
      " [ True  True  True  True]\n",
      " [ True  True  True  True]]\n"
     ]
    }
   ],
   "source": [
    "import numpy as np\n",
    "\n",
    "A = np.array([[1, 2, 3],\n",
    "              [4, 5, 6],\n",
    "              [7, 8, 9],\n",
    "              [10, 11, 12]])\n",
    "\n",
    "B = np.array([[2, 3, 4, 5],\n",
    "              [6, 7, 8, 9],\n",
    "              [10, 11, 12, 13]])\n",
    "\n",
    "# calcular la transpuesta del producto AB\n",
    "AB_T = np.transpose(np.dot(A, B))\n",
    "\n",
    "# calcular el producto de las transpuestas de B y A en orden inverso\n",
    "B_T_A_T = np.dot(np.transpose(B), np.transpose(A))\n",
    "\n",
    "print(AB_T == B_T_A_T)\n",
    "\n",
    "\n",
    "\n",
    "\n",
    "\n",
    "\n"
   ]
  },
  {
   "cell_type": "markdown",
   "metadata": {},
   "source": [
    "**1.2 (15 puntos)**\n",
    "\n",
    "- $\\left(AB\\right)^{T}=B^{T}A^{T}$\n"
   ]
  },
  {
   "cell_type": "code",
   "execution_count": 7,
   "metadata": {},
   "outputs": [
    {
     "name": "stdout",
     "output_type": "stream",
     "text": [
      "[[ True  True  True  True]\n",
      " [ True  True  True  True]\n",
      " [ True  True  True  True]\n",
      " [ True  True  True  True]]\n"
     ]
    }
   ],
   "source": [
    "import numpy as np\n",
    "\n",
    "A = np.array([[1, 2, 3],\n",
    "              [4, 5, 6],\n",
    "              [7, 8, 9],\n",
    "              [10, 11, 12]])\n",
    "\n",
    "B = np.array([[2, 3, 4, 5],\n",
    "              [6, 7, 8, 9],\n",
    "              [10, 11, 12, 13]])\n",
    "\n",
    "# calcular la transpuesta del producto AB\n",
    "AB_T = np.transpose(np.dot(A, B))\n",
    "\n",
    "# calcular el producto de las transpuestas de B y A en orden inverso\n",
    "B_T_A_T = np.dot(np.transpose(B), np.transpose(A))\n",
    "\n",
    "print(AB_T == B_T_A_T)\n",
    "\n"
   ]
  },
  {
   "cell_type": "markdown",
   "metadata": {},
   "source": [
    "**1.3 (15 puntos)**\n",
    "\n",
    "Para este ejercicio, **proponga dos matrices de igual dimensionalidad**\n",
    "\n",
    "\n",
    "- $\\left(A+B\\right)^{T}=A^{T}+B^{T}$.\n"
   ]
  },
  {
   "cell_type": "code",
   "execution_count": 8,
   "metadata": {},
   "outputs": [
    {
     "name": "stdout",
     "output_type": "stream",
     "text": [
      "[[ True  True  True]\n",
      " [ True  True  True]\n",
      " [ True  True  True]]\n"
     ]
    }
   ],
   "source": [
    "import numpy as np\n",
    "\n",
    "A = np.array([[1, 2, 3],\n",
    "              [4, 5, 6],\n",
    "              [7, 8, 9]])\n",
    "\n",
    "B = np.array([[2, 3, 4],\n",
    "              [5, 6, 7],\n",
    "              [8, 9, 10]])\n",
    "\n",
    "\n",
    "# calcular la transpuesta de la suma A+B\n",
    "sum_AB_T = np.transpose(A + B)\n",
    "\n",
    "# calcular la transpuesta de A y B, y luego su suma\n",
    "A_T_B_T_sum = np.transpose(A) + np.transpose(B)\n",
    "\n",
    "print(sum_AB_T == A_T_B_T_sum)"
   ]
  },
  {
   "cell_type": "markdown",
   "metadata": {
    "colab_type": "text",
    "id": "QJ6O85pM5Ns3"
   },
   "source": [
    "---\n",
    "\n",
    "**Pregunta 2**\n",
    "\n",
    "\n",
    "Un conjunto de vectores $\\left\\{ \\vec{x}_{1},\\vec{x}_{2},\\ldots,\\vec{x}_{n}\\right\\} \\in\\mathbb{R}^{m}$ se dice que es linealmente independiente, si ningún vector de tal conjunto puede ser representado como una combinación lineal del resto de vectores. De lo contrario, si uno de los vectores en tal conjunto puede ser representado como una combinación lineal del resto de vectores, entonces los vectores son linealmente dependientes, lo que se expresa como: \n",
    "\n",
    "\\begin{equation}\n",
    "\\vec{x}_{j}=\\sum_{i=1}^{n-1}\\alpha_{i}\\vec{x}_{i}\n",
    "\\end{equation}\n",
    "\n",
    "para cualquier conjunto de valores escalares $\\alpha_{1},\\ldots,\\alpha_{n-1}\\in\\mathbb{R}$ se dice que el vector $\\vec{x}_{j}\\in\\mathbb{R}^{m}$ es linealmente dependiente de los vectores $\\vec{x}_{i}$. \n"
   ]
  },
  {
   "cell_type": "markdown",
   "metadata": {},
   "source": [
    "**2.1 (15 puntos)**\n",
    "\n",
    "Proponga una matriz $A\\in\\mathbb{R}^{4\\times 3}$, cuyos vectores columnas sean linealmente independientes, calcule su rango para mostrar que es de rango $3$ (puede utilizar matrix_rank).\n"
   ]
  },
  {
   "cell_type": "code",
   "execution_count": 20,
   "metadata": {},
   "outputs": [
    {
     "data": {
      "text/plain": [
       "3"
      ]
     },
     "execution_count": 20,
     "metadata": {},
     "output_type": "execute_result"
    }
   ],
   "source": [
    "from numpy.linalg import matrix_rank\n",
    "\n",
    "\n",
    "A = np.matrix([[1, 3, 4], [-8, 1 ,0], [-12, 8, 9], [7, 13, -7]])\n",
    "matrix_rank(A)\n"
   ]
  },
  {
   "cell_type": "markdown",
   "metadata": {},
   "source": [
    "**2.2 (15 puntos)**\n",
    "\n",
    "Ahora haga los cambios necesarios a su matriz de manera que pase a rango $2$. "
   ]
  },
  {
   "cell_type": "code",
   "execution_count": 21,
   "metadata": {},
   "outputs": [
    {
     "data": {
      "text/plain": [
       "2"
      ]
     },
     "execution_count": 21,
     "metadata": {},
     "output_type": "execute_result"
    }
   ],
   "source": [
    "from numpy.linalg import matrix_rank\n",
    "\n",
    "A = np.matrix([[1, 3, 4], [-8, -24 ,0], [-12, -36, 9], [7, 21, -7]])\n",
    "matrix_rank(A)\n",
    "\n",
    "\n",
    "\n"
   ]
  },
  {
   "cell_type": "markdown",
   "metadata": {},
   "source": [
    "---\n",
    "\n",
    "**Pregunta 3 (25 puntos)**\n",
    "\n",
    "Utilizando el archivo \"Dataset_usar.csv\", haga:\n",
    "- Cargue el archivo.\n",
    "- Utilizando el modelo $Ax=b$\n",
    "    - Conforme la matriz $A$ con las primeras 8 columnas.\n",
    "    - Conforme el vector $b$ con la última columna de la derecha.\n",
    "    - Calcule el vector de pesos ($x$), del tipo $A^{-1}b=x$\n",
    "    - Calcule un b_estimado con $A$ e $x$\n",
    "    - Calcule la norma 2 de la diferencia entre b y b_estimado.\n",
    "    - Grafique b y b_estimado.\n",
    "\n"
   ]
  },
  {
   "cell_type": "code",
   "execution_count": 2,
   "metadata": {},
   "outputs": [],
   "source": [
    "import pandas as pd\n",
    "dataframe = pd.read_csv(r'C:\\Users\\chaconri\\Desktop\\Data Science TEC\\Dataset_usar.csv')\n",
    "\n",
    "   \n",
    "\n",
    "\n",
    "\n"
   ]
  },
  {
   "cell_type": "code",
   "execution_count": 18,
   "metadata": {},
   "outputs": [
    {
     "data": {
      "image/png": "[encoded data removed]",
      "text/plain": [
       "<Figure size 640x480 with 1 Axes>"
      ]
     },
     "metadata": {},
     "output_type": "display_data"
    }
   ],
   "source": [
    "import pandas as pd\n",
    "import numpy as np\n",
    "import matplotlib.pyplot as plt\n",
    "\n",
    "# Cargar archivo\n",
    "df = pd.read_csv('Dataset_usar.csv', sep=';', na_values='NaN')\n",
    "\n",
    "# Reemplazar valores faltantes con el valor promedio de la columna\n",
    "df = df.fillna(df.mean())\n",
    "\n",
    "#  matriz A con las primeras 8 columnas\n",
    "A = df.iloc[:, :8].values.astype(np.float64)\n",
    "\n",
    "#  ector b con la última columna de la derecha\n",
    "b = df.iloc[:, -1].values.astype(np.float64)\n",
    "\n",
    "#  solución de mínimos cuadrados\n",
    "x, _, _, _ = np.linalg.lstsq(A, b, rcond=None)\n",
    "\n",
    "#  b_estimado\n",
    "b_estimado = A @ x\n",
    "\n",
    "#  norma 2 de la diferencia entre b y b_estimado\n",
    "norma = np.linalg.norm(b - b_estimado, ord=2)\n",
    "\n",
    "# Graficar b y b_estimado\n",
    "plt.plot(b, label='b')\n",
    "plt.plot(b_estimado, label='b_estimado')\n",
    "plt.legend()\n",
    "plt.show()\n",
    "\n",
    "\n",
    "\n"
   ]
  }
 ],
 "metadata": {
  "colab": {
   "collapsed_sections": [],
   "name": "Trabajo_Práctico_1_Matemática_para_Ciencia_de_los_Datos.ipynb",
   "provenance": []
  },
  "kernelspec": {
   "display_name": "Python 3 (ipykernel)",
   "language": "python",
   "name": "python3"
  },
  "language_info": {
   "codemirror_mode": {
    "name": "ipython",
    "version": 3
   },
   "file_extension": ".py",
   "mimetype": "text/x-python",
   "name": "python",
   "nbconvert_exporter": "python",
   "pygments_lexer": "ipython3",
   "version": "3.11.3"
  }
 },
 "nbformat": 4,
 "nbformat_minor": 1
}
