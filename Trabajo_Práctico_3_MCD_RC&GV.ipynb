{
 "cells": [
  {
   "attachments": {},
   "cell_type": "markdown",
   "metadata": {
    "colab_type": "text",
    "id": "GItxU96mTk16"
   },
   "source": [
    "# Matemática para Ciencia de los Datos\n",
    "# Trabajo Práctico 3\n",
    "\n",
    "Profesor: Luis Alexánder Calvo Valverde \n",
    "\n",
    "Instituto Tecnológico de Costa Rica, \n",
    "\n",
    "Programa Ciencia de Datos\n",
    "\n",
    "---\n",
    "\n",
    "Fecha de entrega: Lunes 15 de Mayo del 2023, a más tardar a las 3:00 pm.\n",
    "\n",
    "Medio de entrega: Por medio del TEC-Digital.\n",
    "\n",
    "Entregables: Un archivo jupyter ( .IPYNB ). \n",
    "\n",
    "Estudiante(s):\n",
    "1. **Ricardo Chacon Brenes**\n",
    "1. **Gabriel Valentine Fonseca**\n"
   ]
  },
  {
   "attachments": {},
   "cell_type": "markdown",
   "metadata": {
    "colab_type": "text",
    "id": "jdtaAwa8XzNA"
   },
   "source": [
    "---\n",
    "\n",
    "**Pregunta 1**\n",
    "\n",
    "\n",
    "\n",
    "Se puede demostrar que para los vectores generadores de un subespacio $E=\\textrm{espacioGenerado}\\left\\{ \\vec{v}_{1},\\vec{v}_{2},\\ldots,\\vec{v}_{m}\\right\\}$ , con $V=\\left[\\vec{v}_{1},\\vec{v}_{2},\\ldots,\\vec{v}_{m}\\right]$,con $\\vec{v}_{m}\\in\\mathbb{R}^{n}$ si son ortonormales, la ecuación de la proyección de un vector $\\vec{u}\\in\\mathbb{R}^{n}$ originalmente dada por:\n",
    "\n",
    "$$\\textrm{proy}\\left(\\vec{u};V\\right)=\\textrm{argmin}_{\\vec{v}\\in E}\\left\\Vert \\vec{v}-\\vec{u}\\right\\Vert _{2}=V\\,\\left(V^{T}V\\right)^{-1}V^{T}\\vec{u}$$\n",
    "\n",
    "se puede reescribir como: \n",
    "\n",
    "$$\\textrm{proy}\\left(\\vec{u};V\\right)=\\textrm{argmin}_{\\vec{v}\\in E}\\left\\Vert \\vec{v}-\\vec{u}\\right\\Vert _{2}=V\\,V^{T}\\vec{u}$$\n",
    "\n",
    "con $V\\in\\mathbb{R}^{n\\times m}$.\n",
    "\n",
    "\n",
    "\n",
    "\n",
    "\n",
    "\n",
    "\n"
   ]
  },
  {
   "attachments": {},
   "cell_type": "markdown",
   "metadata": {},
   "source": [
    "**1.1 (25 puntos)**\n",
    "\n",
    "Utilizando numpy, proponga una matriz ortonormal de dimensiones 3x3, para ello utilice una fuente como \"Proceso de ortonormalización de  Gram - Schmidt\" (https://blog.nekomath.com/algebra-lineal-i-proceso-de-gram-schmidt/) para producir una matriz ortonormal a partir de una matriz que no es ni ortonormal ni ortogonal. \n",
    "\n",
    "Finalmente muestre en numpy que su matriz resultante es ortonormal ($V$).\n",
    "\n"
   ]
  },
  {
   "cell_type": "code",
   "execution_count": 7,
   "metadata": {},
   "outputs": [
    {
     "name": "stdout",
     "output_type": "stream",
     "text": [
      "[[ 0.12309149 -0.12178033  0.12178033]\n",
      " [ 0.49236596 -0.49192844  0.49192844]\n",
      " [ 0.86164044 -0.86207654  0.86207654]]\n"
     ]
    }
   ],
   "source": [
    "import numpy as np\n",
    "\n",
    "\n",
    "# matriz no ortogonal de dimensiones 3x3\n",
    "A = np.array([[1, 2, 3], [4, 5, 6], [7, 8, 9]])\n",
    "\n",
    "#  proceso de Gram-Schmidt\n",
    "def gram_schmidt(A):\n",
    "    Q = np.zeros_like(A, dtype=np.float64)\n",
    "    for i in range(A.shape[1]):\n",
    "        v = A[:, i]\n",
    "        for j in range(i):\n",
    "            q = Q[:, j]\n",
    "            v -= np.dot(v, q) * q\n",
    "        Q[:, i] = v\n",
    "    return Q\n",
    "\n",
    "#  matriz ortogonal\n",
    "Q = gram_schmidt(A.astype(np.float64))  # Convertir la matriz A a tipo float64\n",
    "\n",
    "# Normalizar los vectores para obtener una matriz ortonormal\n",
    "V = Q / np.linalg.norm(Q, axis=0)\n",
    "\n",
    "#  matriz resultante\n",
    "print(V)\n",
    "\n"
   ]
  },
  {
   "attachments": {},
   "cell_type": "markdown",
   "metadata": {},
   "source": [
    "**1.2 (15 puntos)**\n",
    "\n",
    "Proponga un vector $\\vec{u}$ y programe en numpy las operaciones algebraicas siguientes (tome $V$ del paso anterior).\n",
    "\n",
    "$V\\,\\left(V^{T}V\\right)^{-1}V^{T}\\vec{u}$\n",
    "\n",
    "y,\n",
    "\n",
    "$V\\,V^{T}\\vec{u}$\n",
    "\n"
   ]
  },
  {
   "cell_type": "code",
   "execution_count": 8,
   "metadata": {},
   "outputs": [
    {
     "name": "stdout",
     "output_type": "stream",
     "text": [
      "Resultado 1: [1.00030498 1.12853618 2.64121656]\n",
      "Resultado 2: [1.35373898 5.45045037 9.54716176]\n"
     ]
    }
   ],
   "source": [
    "import numpy as np\n",
    "\n",
    "#  vector u\n",
    "u = np.array([1, 2, 3])\n",
    "\n",
    "#  matriz V obtenida en el paso anterior\n",
    "\n",
    "#  V*(V^T * V)^(-1) * V^T * u\n",
    "projection_1 = V @ np.linalg.inv(V.T @ V) @ V.T @ u\n",
    "\n",
    "#  V * V^T * u\n",
    "projection_2 = V @ V.T @ u\n",
    "\n",
    "#  resultados\n",
    "print(\"Resultado 1:\", projection_1)\n",
    "print(\"Resultado 2:\", projection_2)\n"
   ]
  },
  {
   "attachments": {},
   "cell_type": "markdown",
   "metadata": {},
   "source": [
    "**1.3 (10 puntos)**\n",
    "\n",
    "Programe en python para calcular el error de proyección obtenido para los casos del punto **1.2**."
   ]
  },
  {
   "cell_type": "code",
   "execution_count": 9,
   "metadata": {},
   "outputs": [
    {
     "name": "stdout",
     "output_type": "stream",
     "text": [
      "Error de proyección 1: 0.942430286894169\n",
      "Error de proyección 2: 7.409187957852575\n"
     ]
    }
   ],
   "source": [
    "import numpy as np\n",
    "\n",
    "# función para calcular el error de proyección\n",
    "def calcular_error_proyeccion(proyeccion, vector_original):\n",
    "    error = np.linalg.norm(proyeccion - vector_original)\n",
    "    return error\n",
    "\n",
    "#  vector u\n",
    "u = np.array([1, 2, 3])\n",
    "\n",
    "# Definir la matriz V obtenida en el paso anterior\n",
    "\n",
    "# Calcular \n",
    "proyeccion_1 = V @ np.linalg.inv(V.T @ V) @ V.T @ u\n",
    "error_1 = calcular_error_proyeccion(proyeccion_1, u)\n",
    "\n",
    "# Calcular \n",
    "proyeccion_2 = V @ V.T @ u\n",
    "error_2 = calcular_error_proyeccion(proyeccion_2, u)\n",
    "\n",
    "# Imprimir los errores de proyección\n",
    "print(\"Error de proyección 1:\", error_1)\n",
    "print(\"Error de proyección 2:\", error_2)\n"
   ]
  },
  {
   "attachments": {},
   "cell_type": "markdown",
   "metadata": {
    "colab_type": "text",
    "id": "jdtaAwa8XzNA"
   },
   "source": [
    "---\n",
    "\n",
    "**Pregunta 2 (10 puntos)**\n",
    "\n",
    "\n",
    "Programe en python la función calculeDet2, que recibe como parámetro una matriz cuadrada de dimensiones 2x2, llamada M, y retorna el determinante de esa matriz. Usted debe programar las operaciones matemáticas necesarias, no utilizar una función tipo det para calcularla. Pruébela con dos matrices que Usted proponga.\n",
    "\n",
    "def calculeDet2( M ):\n",
    "\n",
    "\n",
    "\n"
   ]
  },
  {
   "cell_type": "code",
   "execution_count": 10,
   "metadata": {},
   "outputs": [
    {
     "name": "stdout",
     "output_type": "stream",
     "text": [
      "Determinante de la matriz 1: -2\n",
      "Determinante de la matriz 2: 5\n"
     ]
    }
   ],
   "source": [
    "def calculeDet2(M):\n",
    "    det = M[0, 0] * M[1, 1] - M[0, 1] * M[1, 0]\n",
    "    return det\n",
    "\n",
    "# Prueba de la función con dos matrices propuestas\n",
    "# Matriz 1\n",
    "matriz1 = np.array([[2, 3], [4, 5]])\n",
    "det1 = calculeDet2(matriz1)\n",
    "print(\"Determinante de la matriz 1:\", det1)\n",
    "\n",
    "# Matriz 2\n",
    "matriz2 = np.array([[1, -1], [3, 2]])\n",
    "det2 = calculeDet2(matriz2)\n",
    "print(\"Determinante de la matriz 2:\", det2)\n"
   ]
  },
  {
   "attachments": {},
   "cell_type": "markdown",
   "metadata": {
    "colab_type": "text",
    "id": "jdtaAwa8XzNA"
   },
   "source": [
    "---\n",
    "\n",
    "**Pregunta 3 (10 puntos)**\n",
    "\n",
    "\n",
    "Programe en python la función calculeDet3, que recibe como parámetro una matriz cuadrada de dimensiones 3x3, llamada M, y retorna el determinante de esa matriz. Usted debe programar las operaciones matemáticas necesarias, no utilizar una función de numpy tipo det para calcularla (sí puede usar función que programó en la **Pregunta 2**). Pruébela con dos matrices que Usted proponga.\n",
    "\n",
    "def calculeDet3( M ):\n",
    "\n",
    "\n",
    "\n",
    "\n"
   ]
  },
  {
   "cell_type": "code",
   "execution_count": 3,
   "metadata": {},
   "outputs": [
    {
     "name": "stdout",
     "output_type": "stream",
     "text": [
      "Determinante de la matriz 1: -5\n",
      "Determinante de la matriz 2: 10\n"
     ]
    }
   ],
   "source": [
    "def calculeDet3(M):\n",
    "    a = M[0, 0]\n",
    "    b = M[0, 1]\n",
    "    c = M[0, 2]\n",
    "    d = M[1, 0]\n",
    "    e = M[1, 1]\n",
    "    f = M[1, 2]\n",
    "    g = M[2, 0]\n",
    "    h = M[2, 1]\n",
    "    i = M[2, 2]\n",
    "\n",
    "    det = a * (e * i - f * h) - b * (d * i - f * g) + c * (d * h - e * g)\n",
    "    return det\n",
    "\n",
    "# Prueba de la función con dos matrices propuestas\n",
    "# Matriz 1\n",
    "matriz1 = np.array([[2, 3, 1], [4, 5, 2], [1, 2, 3]])\n",
    "det1 = calculeDet3(matriz1)\n",
    "print(\"Determinante de la matriz 1:\", det1)\n",
    "\n",
    "# Matriz 2\n",
    "matriz2 = np.array([[1, -1, 2], [3, 2, 0], [1, 4, -2]])\n",
    "det2 = calculeDet3(matriz2)\n",
    "print(\"Determinante de la matriz 2:\", det2)\n"
   ]
  },
  {
   "attachments": {},
   "cell_type": "markdown",
   "metadata": {
    "colab_type": "text",
    "id": "jdtaAwa8XzNA"
   },
   "source": [
    "---\n",
    "\n",
    "**Pregunta 4 (15 puntos)**\n",
    "\n",
    "Se tiene que:\n",
    "\n",
    "$$\\textrm{det}\\left(A\\,B\\right)=\\textrm{det}\\left(A\\right)\\,\\textrm{det}\\left(B\\right)$$\n",
    "\n",
    "Proponga dos matrices de 4x4 ( $A$ e $B$) y programando en numpy muestre esta igualdad (puede usar de numpy las funciones det y la de multiplicar matrices).\n",
    "\n",
    "\n",
    "\n",
    "\n"
   ]
  },
  {
   "cell_type": "code",
   "execution_count": 2,
   "metadata": {},
   "outputs": [
    {
     "name": "stdout",
     "output_type": "stream",
     "text": [
      "Determinante de A*B: 0.0\n",
      "Producto de los determinantes de A y B: 0.0\n"
     ]
    }
   ],
   "source": [
    "import numpy as np\n",
    "\n",
    "# Definir las matrices A y B\n",
    "A = np.array([[1, 2, 3, 4],\n",
    "              [5, 6, 7, 8],\n",
    "              [9, 10, 11, 12],\n",
    "              [13, 14, 15, 16]])\n",
    "\n",
    "B = np.array([[17, 18, 19, 20],\n",
    "              [21, 22, 23, 24],\n",
    "              [25, 26, 27, 28],\n",
    "              [29, 30, 31, 32]])\n",
    "\n",
    "# Calcular el determinante de A*B\n",
    "det_AB = np.linalg.det(A @ B)\n",
    "\n",
    "# Calcular el determinante de A y B\n",
    "det_A = np.linalg.det(A)\n",
    "det_B = np.linalg.det(B)\n",
    "\n",
    "# Calcular el producto de los determinantes de A y B\n",
    "det_product = det_A * det_B\n",
    "\n",
    "# Mostrar los resultados\n",
    "print(\"Determinante de A*B:\", det_AB)\n",
    "print(\"Producto de los determinantes de A y B:\", det_product)\n"
   ]
  },
  {
   "attachments": {},
   "cell_type": "markdown",
   "metadata": {
    "colab_type": "text",
    "id": "jdtaAwa8XzNA"
   },
   "source": [
    "---\n",
    "\n",
    "**Pregunta 5 (15 puntos)**\n",
    "\n",
    "\n",
    "Utilizando el archivo \"Dataset_usar.csv\", haga:\n",
    "- Cargue el archivo.\n",
    "- Muestre cuántas filas por cuántas columnas tiene el conjunto de datos.\n",
    "- Utilizando el modelo $Ax=b$\n",
    "    - Conforme la matriz $A$ con todas las columnas menos la última de la derecha.\n",
    "    - Conforme el vector $b$ con la última columna de la derecha.\n",
    "    - Calcule el vector de pesos ($x$), utilizando el concepto de mínimos cuadrados $\\left(A^{T}A\\right)^{-1}A^{T}\\vec{b}$\n",
    "    - Calcule un b_estimado con $A$ e $x$\n",
    "    - Calcule la norma 2 de la diferencia entre b y b_estimado.\n",
    "    - Grafique b y b_estimado.\n",
    "\n"
   ]
  },
  {
   "cell_type": "code",
   "execution_count": 34,
   "metadata": {},
   "outputs": [
    {
     "name": "stdout",
     "output_type": "stream",
     "text": [
      "  bias;Length;Diameter;Height;Whole;Shucked;Sex_Female;Sex_Masculine;Shellweight\n",
      "0  1;0.186567164;0.155963303;0.195652174;0.011687...                            \n",
      "1  1;0.813432836;0.76146789;0.826086957;0.4333274...                            \n",
      "2  1;0.410447761;0.376146789;0.369565217;0.074021...                            \n",
      "3  1;0.537313433;0.504587156;0.5;0.143084824;0.33...                            \n",
      "4  1;0.507462687;0.495412844;0.565217391;0.146980...                            \n"
     ]
    }
   ],
   "source": [
    "import pandas as pd\n",
    "import math \n",
    "import numpy as np\n",
    "import pandas as pd\n",
    "import matplotlib.pyplot as plt\n",
    "\n",
    "\n",
    "\n",
    "file_path =r'C:\\Users\\chaconri\\Desktop\\Data Science TEC\\Dataset.csv'\n",
    "data = np.genfromtxt(r'C:\\Users\\chaconri\\Desktop\\Data Science TEC\\Dataset.csv', delimiter=',', skip_header=1, dtype=str)\n",
    "\n",
    "\n",
    "# Imprime as primeiras 5 linhas do DataFrame\n",
    "print(data_frame.head())\n"
   ]
  },
  {
   "cell_type": "code",
   "execution_count": 36,
   "metadata": {},
   "outputs": [
    {
     "name": "stdout",
     "output_type": "stream",
     "text": [
      "Total filas  998\n",
      "Total columnas  1\n"
     ]
    }
   ],
   "source": [
    "#  pandas a numpy\n",
    "data = pd.DataFrame(data_frame).to_numpy()\n",
    "\n",
    "# ver dimensiones\n",
    "total_columnas = data.shape[1]\n",
    "total_filas = data.shape[0]\n",
    "print(\"Total filas \", total_filas)\n",
    "print(\"Total columnas \", total_columnas)"
   ]
  },
  {
   "cell_type": "code",
   "execution_count": 37,
   "metadata": {},
   "outputs": [],
   "source": [
    "# Construir matriz A y vector b\n",
    "A = data[:, 1:-1].astype(float)\n",
    "b = np.array([float(value.split(';')[0]) for value in data[:, -1]])"
   ]
  },
  {
   "cell_type": "code",
   "execution_count": 41,
   "metadata": {},
   "outputs": [],
   "source": [
    "#  vector de pesos x\n",
    "x = np.linalg.inv(A.T @ A) @ A.T @ b\n",
    "\n"
   ]
  },
  {
   "cell_type": "code",
   "execution_count": 39,
   "metadata": {},
   "outputs": [],
   "source": [
    "#  b_estimado\n",
    "b_estimado = A @ x\n"
   ]
  },
  {
   "cell_type": "code",
   "execution_count": 42,
   "metadata": {},
   "outputs": [
    {
     "name": "stdout",
     "output_type": "stream",
     "text": [
      "Norma 2 de la diferencia: 31.591137997862628\n"
     ]
    }
   ],
   "source": [
    "# norma 2 de la diferencia entre b y b_estimado\n",
    "norma_diferencia = np.linalg.norm(b - b_estimado, ord=2)\n",
    "print(\"Norma 2 de la diferencia:\", norma_diferencia)\n",
    "\n"
   ]
  },
  {
   "cell_type": "code",
   "execution_count": 43,
   "metadata": {},
   "outputs": [
    {
     "data": {
      "image/png": "[encoded data removed]",
      "text/plain": [
       "<Figure size 640x480 with 1 Axes>"
      ]
     },
     "metadata": {},
     "output_type": "display_data"
    }
   ],
   "source": [
    "# Graficar b y b_estimado\n",
    "plt.plot(b, label='b')\n",
    "plt.plot(b_estimado, label='b_estimado')\n",
    "plt.xlabel('Índice')\n",
    "plt.ylabel('Valor')\n",
    "plt.legend()\n",
    "plt.show()"
   ]
  }
 ],
 "metadata": {
  "colab": {
   "collapsed_sections": [],
   "name": "Trabajo_Práctico_1_Matemática_para_Ciencia_de_los_Datos.ipynb",
   "provenance": []
  },
  "kernelspec": {
   "display_name": "Python 3 (ipykernel)",
   "language": "python",
   "name": "python3"
  },
  "language_info": {
   "codemirror_mode": {
    "name": "ipython",
    "version": 3
   },
   "file_extension": ".py",
   "mimetype": "text/x-python",
   "name": "python",
   "nbconvert_exporter": "python",
   "pygments_lexer": "ipython3",
   "version": "3.11.3"
  }
 },
 "nbformat": 4,
 "nbformat_minor": 1
}
