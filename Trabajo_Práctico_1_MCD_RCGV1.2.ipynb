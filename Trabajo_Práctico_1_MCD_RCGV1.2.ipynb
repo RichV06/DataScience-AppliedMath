{
 "cells": [
  {
   "attachments": {},
   "cell_type": "markdown",
   "metadata": {
    "colab_type": "text",
    "id": "GItxU96mTk16"
   },
   "source": [
    "# Matemática para Ciencia de los Datos\n",
    "# Trabajo Práctico 1\n",
    "\n",
    "Profesor: Luis Alexánder Calvo Valverde \n",
    "\n",
    "Instituto Tecnológico de Costa Rica, \n",
    "\n",
    "Programa Ciencia de Datos\n",
    "\n",
    "---\n",
    "\n",
    "Fecha de entrega: Lunes 24 de Abril del 2023, a más tardar a las 3:00 pm.\n",
    "\n",
    "Medio de entrega: Por medio del TEC-Digital.\n",
    "\n",
    "Entregables: Un archivo jupyter ( .IPYNB ). \n",
    "\n",
    "Estudiante(s):\n",
    "1. **Ricardo Chacon**\n",
    "1. **Gabriel Valentine**\n"
   ]
  },
  {
   "attachments": {},
   "cell_type": "markdown",
   "metadata": {},
   "source": [
    "Ricardo Chacon Brenes\n",
    "Gabriel Valentine"
   ]
  },
  {
   "cell_type": "code",
   "execution_count": 5,
   "metadata": {},
   "outputs": [
    {
     "name": "stdout",
     "output_type": "stream",
     "text": [
      "Collecting matplotlib\n",
      "  Downloading matplotlib-3.7.1-cp311-cp311-win_amd64.whl (7.6 MB)\n",
      "     ---------------------------------------- 7.6/7.6 MB 1.2 MB/s eta 0:00:00\n",
      "Collecting contourpy>=1.0.1\n",
      "  Downloading contourpy-1.0.7-cp311-cp311-win_amd64.whl (162 kB)\n",
      "     -------------------------------------- 163.0/163.0 kB 1.6 MB/s eta 0:00:00\n",
      "Collecting cycler>=0.10\n",
      "  Downloading cycler-0.11.0-py3-none-any.whl (6.4 kB)\n",
      "Collecting fonttools>=4.22.0\n",
      "  Downloading fonttools-4.39.3-py3-none-any.whl (1.0 MB)\n",
      "     ---------------------------------------- 1.0/1.0 MB 1.8 MB/s eta 0:00:00\n",
      "Collecting kiwisolver>=1.0.1\n",
      "  Downloading kiwisolver-1.4.4-cp311-cp311-win_amd64.whl (55 kB)\n",
      "     ---------------------------------------- 55.4/55.4 kB 1.4 MB/s eta 0:00:00\n",
      "Requirement already satisfied: numpy>=1.20 in c:\\users\\chaconri\\appdata\\local\\packages\\pythonsoftwarefoundation.python.3.11_qbz5n2kfra8p0\\localcache\\local-packages\\python311\\site-packages (from matplotlib) (1.24.2)\n",
      "Requirement already satisfied: packaging>=20.0 in c:\\users\\chaconri\\appdata\\local\\packages\\pythonsoftwarefoundation.python.3.11_qbz5n2kfra8p0\\localcache\\local-packages\\python311\\site-packages (from matplotlib) (23.1)\n",
      "Collecting pillow>=6.2.0\n",
      "  Downloading Pillow-9.5.0-cp311-cp311-win_amd64.whl (2.5 MB)\n",
      "     ---------------------------------------- 2.5/2.5 MB 3.1 MB/s eta 0:00:00\n",
      "Collecting pyparsing>=2.3.1\n",
      "  Downloading pyparsing-3.0.9-py3-none-any.whl (98 kB)\n",
      "     ---------------------------------------- 98.3/98.3 kB 2.8 MB/s eta 0:00:00\n",
      "Requirement already satisfied: python-dateutil>=2.7 in c:\\users\\chaconri\\appdata\\local\\packages\\pythonsoftwarefoundation.python.3.11_qbz5n2kfra8p0\\localcache\\local-packages\\python311\\site-packages (from matplotlib) (2.8.2)\n",
      "Requirement already satisfied: six>=1.5 in c:\\users\\chaconri\\appdata\\local\\packages\\pythonsoftwarefoundation.python.3.11_qbz5n2kfra8p0\\localcache\\local-packages\\python311\\site-packages (from python-dateutil>=2.7->matplotlib) (1.16.0)\n",
      "Installing collected packages: pyparsing, pillow, kiwisolver, fonttools, cycler, contourpy, matplotlib\n",
      "Successfully installed contourpy-1.0.7 cycler-0.11.0 fonttools-4.39.3 kiwisolver-1.4.4 matplotlib-3.7.1 pillow-9.5.0 pyparsing-3.0.9\n",
      "Note: you may need to restart the kernel to use updated packages.\n"
     ]
    },
    {
     "name": "stderr",
     "output_type": "stream",
     "text": [
      "\n",
      "[notice] A new release of pip available: 22.3.1 -> 23.1\n",
      "[notice] To update, run: C:\\Users\\chaconri\\AppData\\Local\\Microsoft\\WindowsApps\\PythonSoftwareFoundation.Python.3.11_qbz5n2kfra8p0\\python.exe -m pip install --upgrade pip\n",
      "  WARNING: Retrying (Retry(total=4, connect=None, read=None, redirect=None, status=None)) after connection broken by 'SSLError(SSLEOFError(8, 'EOF occurred in violation of protocol (_ssl.c:1002)'))': /packages/fb/8c/391e3c105edb7e193bb163ed48988135228d0b5ce3143e1cbec2350e23c8/matplotlib-3.7.1-cp311-cp311-win_amd64.whl\n",
      "\n",
      "[notice] A new release of pip available: 22.3.1 -> 23.1\n",
      "[notice] To update, run: C:\\Users\\chaconri\\AppData\\Local\\Microsoft\\WindowsApps\\PythonSoftwareFoundation.Python.3.11_qbz5n2kfra8p0\\python.exe -m pip install --upgrade pip\n"
     ]
    },
    {
     "name": "stdout",
     "output_type": "stream",
     "text": [
      "Collecting matplotlib\n",
      "  Downloading matplotlib-3.7.1-cp311-cp311-win_amd64.whl (7.6 MB)\n",
      "     ---------------------------------------- 7.6/7.6 MB 402.2 kB/s eta 0:00:00\n",
      "Collecting contourpy>=1.0.1\n",
      "  Using cached contourpy-1.0.7-cp311-cp311-win_amd64.whl (162 kB)\n",
      "Collecting cycler>=0.10\n",
      "  Using cached cycler-0.11.0-py3-none-any.whl (6.4 kB)\n",
      "Collecting fonttools>=4.22.0\n",
      "  Using cached fonttools-4.39.3-py3-none-any.whl (1.0 MB)\n",
      "Collecting kiwisolver>=1.0.1\n",
      "  Using cached kiwisolver-1.4.4-cp311-cp311-win_amd64.whl (55 kB)\n",
      "Requirement already satisfied: numpy>=1.20 in c:\\users\\chaconri\\appdata\\local\\packages\\pythonsoftwarefoundation.python.3.11_qbz5n2kfra8p0\\localcache\\local-packages\\python311\\site-packages (from matplotlib) (1.24.2)\n",
      "Requirement already satisfied: packaging>=20.0 in c:\\users\\chaconri\\appdata\\local\\packages\\pythonsoftwarefoundation.python.3.11_qbz5n2kfra8p0\\localcache\\local-packages\\python311\\site-packages (from matplotlib) (23.1)\n",
      "Collecting pillow>=6.2.0\n",
      "  Using cached Pillow-9.5.0-cp311-cp311-win_amd64.whl (2.5 MB)\n",
      "Collecting pyparsing>=2.3.1\n",
      "  Downloading pyparsing-3.0.9-py3-none-any.whl (98 kB)\n",
      "     ---------------------------------------- 98.3/98.3 kB ? eta 0:00:00\n",
      "Requirement already satisfied: python-dateutil>=2.7 in c:\\users\\chaconri\\appdata\\local\\packages\\pythonsoftwarefoundation.python.3.11_qbz5n2kfra8p0\\localcache\\local-packages\\python311\\site-packages (from matplotlib) (2.8.2)\n",
      "Requirement already satisfied: six>=1.5 in c:\\users\\chaconri\\appdata\\local\\packages\\pythonsoftwarefoundation.python.3.11_qbz5n2kfra8p0\\localcache\\local-packages\\python311\\site-packages (from python-dateutil>=2.7->matplotlib) (1.16.0)\n",
      "Installing collected packages: pyparsing, pillow, kiwisolver, fonttools, cycler, contourpy, matplotlib\n",
      "Successfully installed contourpy-1.0.7 cycler-0.11.0 fonttools-4.39.3 kiwisolver-1.4.4 matplotlib-3.7.1 pillow-9.5.0 pyparsing-3.0.9\n",
      "Requirement already satisfied: numpy in c:\\users\\chaconri\\appdata\\local\\packages\\pythonsoftwarefoundation.python.3.11_qbz5n2kfra8p0\\localcache\\local-packages\\python311\\site-packages (1.24.2)\n",
      "Note: you may need to restart the kernel to use updated packages.\n"
     ]
    },
    {
     "name": "stderr",
     "output_type": "stream",
     "text": [
      "\n",
      "[notice] A new release of pip available: 22.3.1 -> 23.1\n",
      "[notice] To update, run: C:\\Users\\chaconri\\AppData\\Local\\Microsoft\\WindowsApps\\PythonSoftwareFoundation.Python.3.11_qbz5n2kfra8p0\\python.exe -m pip install --upgrade pip\n",
      "\n",
      "[notice] A new release of pip available: 22.3.1 -> 23.1\n",
      "[notice] To update, run: C:\\Users\\chaconri\\AppData\\Local\\Microsoft\\WindowsApps\\PythonSoftwareFoundation.Python.3.11_qbz5n2kfra8p0\\python.exe -m pip install --upgrade pip\n"
     ]
    },
    {
     "name": "stdout",
     "output_type": "stream",
     "text": [
      "Collecting pandas\n",
      "  Downloading pandas-2.0.0-cp311-cp311-win_amd64.whl (11.2 MB)\n",
      "     ---------------------------------------- 11.2/11.2 MB 3.3 MB/s eta 0:00:00\n",
      "Requirement already satisfied: python-dateutil>=2.8.2 in c:\\users\\chaconri\\appdata\\local\\packages\\pythonsoftwarefoundation.python.3.11_qbz5n2kfra8p0\\localcache\\local-packages\\python311\\site-packages (from pandas) (2.8.2)\n",
      "Collecting pytz>=2020.1\n",
      "  Downloading pytz-2023.3-py2.py3-none-any.whl (502 kB)\n",
      "     -------------------------------------- 502.3/502.3 kB 4.5 MB/s eta 0:00:00\n",
      "Collecting tzdata>=2022.1\n",
      "  Downloading tzdata-2023.3-py2.py3-none-any.whl (341 kB)\n",
      "     -------------------------------------- 341.8/341.8 kB 4.3 MB/s eta 0:00:00\n",
      "Requirement already satisfied: numpy>=1.21.0 in c:\\users\\chaconri\\appdata\\local\\packages\\pythonsoftwarefoundation.python.3.11_qbz5n2kfra8p0\\localcache\\local-packages\\python311\\site-packages (from pandas) (1.24.2)\n",
      "Requirement already satisfied: six>=1.5 in c:\\users\\chaconri\\appdata\\local\\packages\\pythonsoftwarefoundation.python.3.11_qbz5n2kfra8p0\\localcache\\local-packages\\python311\\site-packages (from python-dateutil>=2.8.2->pandas) (1.16.0)\n",
      "Installing collected packages: pytz, tzdata, pandas\n",
      "Successfully installed pandas-2.0.0 pytz-2023.3 tzdata-2023.3\n",
      "Note: you may need to restart the kernel to use updated packages.\n"
     ]
    }
   ],
   "source": [
    "%pip install matplotlib\n",
    "%pip install numpy\n",
    "%pip install pandas\n",
    "import numpy as np\n",
    "import pandas as pd\n",
    "import matplotlib.pyplot as plt"
   ]
  },
  {
   "attachments": {},
   "cell_type": "markdown",
   "metadata": {},
   "source": [
    "**Pregunta 1 (20 puntos, 10 pts c/u)**\n",
    "\n",
    "Demuestre de manera matemática si los siguientes sistemas $L\\left\\{ \\cdot\\right\\}$  (con entrada $u(t)$ y salida $g(t)$ ) son lineales o no lineales (**escriba las fórmulas en celdas de texto**). Una vez hecho su mayor esfuerzo, si no sabe cómo seguir matemáticamente, puede sustituir con valores y mostrar por contra-ejemplo.\n",
    "\n",
    "a)  \n",
    "$g\\left(t\\right)=\\log _{10} u(t)$\n",
    "\n",
    "\n"
   ]
  },
  {
   "attachments": {},
   "cell_type": "markdown",
   "metadata": {},
   "source": [
    "$L\\left\\{ \\alpha f_{1}\\left(x\\right)+\\beta f_{2}\\left(x\\right)\\right\\} =\\alpha L\\left\\{ f_{1}(x)\\right\\} +\\beta L\\left\\{ f_{2}(x)\\right\\}$\n",
    "\n",
    "$\\log_{10}{(\\alpha u_{1}\\left(t\\right)+\\beta u_{2}(t))}$  $=?$ $\\alpha \\log_{10}{u_{1}\\left(t\\right)}+\\beta \\log_{10}{u_{2}\\left(t\\right)}$\n",
    "\n",
    "$\\log_{10}{(\\alpha u_{1}\\left(t\\right)+\\beta u_{2}(t))}$  $=?$ $\\log_{10}{(u_{1}\\left(t\\right)^{\\alpha} u_{2}\\left(t\\right)^{\\beta})}$\n",
    "\n",
    "$g\\left(t\\right)=\\log _{10} u(t)$, No es un sistema lineal\n",
    "\n",
    "\n",
    "\n",
    "\n",
    "B)\n",
    "\n",
    "$L\\left\\{\\alpha f_{1}\\left(x\\right)+\\beta f_{2}\\left(x\\right)\\right\\} =\\alpha L\\left\\{ f_{1}(x)\\right\\} +\\beta L\\left\\{ f_{2}(x)\\right\\}$\n",
    "\n",
    "$5(\\alpha u_{1}\\left(t\\right)+\\beta u_{2}(t)) + 13$ $=?$ $\\alpha(5 u_{1}\\left(t\\right) + 13) + \\beta(5 u_{2}\\left(t\\right) + 13)$\n",
    "\n",
    "$5\\alpha u_{1}\\left(t\\right) + 5\\beta u_{2}(t) + 13$ $=?$ $5\\alpha u_{1}\\left(t\\right) + 13\\alpha + 5\\beta u_{2}\\left(t\\right) + 13\\beta$\n",
    "\n",
    "$5\\alpha u_{1}\\left(t\\right) + 5\\beta u_{2}(t) + 13$ $=?$ $5\\alpha u_{1}\\left(t\\right) +  5\\beta u_{2}\\left(t\\right)13(\\alpha + \\beta)$\n",
    "\n",
    "No es un sistema lineal"
   ]
  },
  {
   "attachments": {},
   "cell_type": "markdown",
   "metadata": {},
   "source": [
    "\n",
    "\n"
   ]
  },
  {
   "cell_type": "markdown",
   "metadata": {},
   "source": [
    "---\n",
    "\n",
    "**Pregunta 2 (20 puntos, 10 pts c/u)**\n",
    "\n",
    "Para cada uno de los siguientes vectores calcule la norma $L_2$: \n",
    "1. De manera matemática.\n",
    "1. Programe una implementación en python de lo anterior, pero sin utilizar la función **norm** de la biblioteca. \n",
    "1. Luego compare su resultado con una versión usando **norm**.\n",
    "\n",
    "a)\n",
    "\n",
    "$a = \\begin{bmatrix}-9 \\\\ 7 \\end{bmatrix}$\n",
    "\n"
   ]
  },
  {
   "cell_type": "code",
   "execution_count": 2,
   "metadata": {},
   "outputs": [
    {
     "name": "stdout",
     "output_type": "stream",
     "text": [
      "11.40175425099138\n",
      "Collecting numpy\n",
      "  Downloading numpy-1.24.2-cp311-cp311-win_amd64.whl (14.8 MB)\n",
      "     ---------------------------------------- 14.8/14.8 MB 6.2 MB/s eta 0:00:00\n",
      "Installing collected packages: numpy\n",
      "Successfully installed numpy-1.24.2\n",
      "Note: you may need to restart the kernel to use updated packages.\n",
      "11.40175425099138\n"
     ]
    },
    {
     "name": "stderr",
     "output_type": "stream",
     "text": [
      "\n",
      "[notice] A new release of pip available: 22.3.1 -> 23.1\n",
      "[notice] To update, run: C:\\Users\\chaconri\\AppData\\Local\\Microsoft\\WindowsApps\\PythonSoftwareFoundation.Python.3.11_qbz5n2kfra8p0\\python.exe -m pip install --upgrade pip\n"
     ]
    }
   ],
   "source": [
    "#Sin la funcion norm\n",
    "\n",
    "def norma_l2(vector):\n",
    "    suma_cuadrados = 0\n",
    "    for elemento in vector:\n",
    "        suma_cuadrados += elemento**2\n",
    "    norma = suma_cuadrados ** 0.5\n",
    "    return norma\n",
    "\n",
    "#Calcular normq\n",
    "\n",
    "a = [-9, 7]\n",
    "norma_a = norma_l2(a)\n",
    "print(norma_a) \n",
    "\n",
    "\n",
    "#Con la funcion norm\n",
    "%pip install numpy\n",
    "import numpy as np\n",
    "\n",
    "a = np.array([-9, 7])\n",
    "norma_a = np.linalg.norm(a)\n",
    "print(norma_a) \n",
    "\n"
   ]
  },
  {
   "cell_type": "markdown",
   "metadata": {},
   "source": [
    "b) \n",
    "\n",
    "$b = \\begin{bmatrix}1 \\\\ 2 \\\\ 4 \\\\  5\\end{bmatrix}$\n",
    "\n"
   ]
  },
  {
   "cell_type": "code",
   "execution_count": 7,
   "metadata": {},
   "outputs": [
    {
     "data": {
      "text/plain": [
       "6.782329983125268"
      ]
     },
     "execution_count": 7,
     "metadata": {},
     "output_type": "execute_result"
    }
   ],
   "source": [
    "#Sin la funcion norm\n",
    "\n",
    "import math\n",
    "\n",
    "def norma_L2(vector):\n",
    "    suma_cuadrados = 0\n",
    "    for i in range(len(vector)):\n",
    "        suma_cuadrados += vector[i]**2\n",
    "    return math.sqrt(suma_cuadrados)\n",
    "\n",
    "b = [1, 2, 4, 5]\n",
    "norma_L2(b)\n",
    "6.782329983125268\n",
    "\n",
    "#Utilizando NORM\n",
    "\n",
    "\n"
   ]
  },
  {
   "cell_type": "markdown",
   "metadata": {},
   "source": [
    "---\n",
    "\n",
    "**Pregunta 3 (20 puntos, 10 pts c/u)**\n",
    "\n",
    "En Python, calcule el producto punto (o producto escalar entre vectores) $a \\cdot b$ para los siguientes pares de vectores, una versión utilizando **dot**, y otra sin utilizar dicha función (programa en python con ciclos):\n",
    "\n",
    "a) \n",
    "\n",
    "$a=\\begin{bmatrix}2 \\\\ 7 \\end{bmatrix}, b=\\begin{bmatrix}10 \\\\ 2 \\end{bmatrix}$\n",
    "\n"
   ]
  },
  {
   "cell_type": "code",
   "execution_count": 8,
   "metadata": {},
   "outputs": [
    {
     "name": "stdout",
     "output_type": "stream",
     "text": [
      "34\n"
     ]
    }
   ],
   "source": [
    "import numpy as np\n",
    "\n",
    "a = np.array([2, 7])\n",
    "b = np.array([10, 2])\n",
    "\n",
    "dot_product = np.dot(a, b)\n",
    "print(dot_product)\n"
   ]
  },
  {
   "cell_type": "markdown",
   "metadata": {},
   "source": [
    "\n",
    "b)\n",
    "\n",
    "$a=\\begin{bmatrix}-1 \\\\ 8 \\\\ 3 \\end{bmatrix}, b=\\begin{bmatrix} 2 \\\\ 6 \\\\ 5 \\end{bmatrix}$\n",
    "\n",
    "\n"
   ]
  },
  {
   "cell_type": "code",
   "execution_count": 9,
   "metadata": {},
   "outputs": [
    {
     "name": "stdout",
     "output_type": "stream",
     "text": [
      "61\n"
     ]
    }
   ],
   "source": [
    "import numpy as np\n",
    "\n",
    "a = np.array([-1, 8, 3])\n",
    "b = np.array([2, 6, 5])\n",
    "\n",
    "dot_product = np.dot(a, b)\n",
    "print(dot_product)\n"
   ]
  },
  {
   "cell_type": "markdown",
   "metadata": {},
   "source": [
    "---\n",
    "\n",
    "**Pregunta 4 (20 puntos, 10 pts c/u)**\n",
    "\n",
    "a) Proponga dos vectores:  $x$  e  $y$ que sean colineales (con dos elementos cada uno).  Programe en python para mostrar que son colineales y luego grafíquelos en un mismo gráfico en python. En el cuaderno visto en clase viene un ejemplo de uso de import matplotlib.pyplot as plt\n",
    "\n"
   ]
  },
  {
   "attachments": {},
   "cell_type": "markdown",
   "metadata": {},
   "source": [
    "$x=[1,2]$ e $y=[2,4]$. Es fácil ver que $y$ es el doble de $x$, por lo que son colineales."
   ]
  },
  {
   "cell_type": "code",
   "execution_count": 1,
   "metadata": {},
   "outputs": [
    {
     "name": "stdout",
     "output_type": "stream",
     "text": [
      "Los vectores son colineales\n"
     ]
    },
    {
     "data": {
      "image/png": "[encoded data removed]",
      "text/plain": [
       "<Figure size 640x480 with 1 Axes>"
      ]
     },
     "metadata": {},
     "output_type": "display_data"
    }
   ],
   "source": [
    "import matplotlib.pyplot as plt\n",
    "import numpy as np\n",
    "\n",
    "# Definimos los vectores\n",
    "x = np.array([1, 2])\n",
    "y = np.array([2, 4])\n",
    "\n",
    "# Verificamos que son colineales\n",
    "if np.all(x * 2 == y):\n",
    "    print(\"Los vectores son colineales\")\n",
    "\n",
    "# Graficamos los vectores\n",
    "plt.plot([0, x[0]], [0, x[1]], label=\"x\")\n",
    "plt.plot([0, y[0]], [0, y[1]], label=\"y\")\n",
    "plt.legend()\n",
    "plt.xlim(-1, 5)\n",
    "plt.ylim(-1, 5)\n",
    "plt.grid()\n",
    "plt.show()\n"
   ]
  },
  {
   "cell_type": "markdown",
   "metadata": {},
   "source": [
    "\n",
    "b)  \n",
    "\n",
    "Ahora modifique uno de los vectores para que no sean colineales y luego grafique para mostrar cómo se ven dos vectores que no son colineales. \n",
    "\n"
   ]
  },
  {
   "cell_type": "code",
   "execution_count": 2,
   "metadata": {},
   "outputs": [
    {
     "data": {
      "image/png": "[encoded data removed]",
      "text/plain": [
       "<Figure size 640x480 with 1 Axes>"
      ]
     },
     "metadata": {},
     "output_type": "display_data"
    }
   ],
   "source": [
    "import matplotlib.pyplot as plt\n",
    "import numpy as np\n",
    "\n",
    "# Definimos los vectores\n",
    "x = np.array([1, 3])  # Vector modificado\n",
    "y = np.array([2, 4])\n",
    "\n",
    "# Verificamos que no son colineales\n",
    "if np.all(x * 2 != y):\n",
    "    print(\"Los vectores no son colineales\")\n",
    "\n",
    "# Graficamos los vectores\n",
    "plt.plot([0, x[0]], [0, x[1]], label=\"x\")\n",
    "plt.plot([0, y[0]], [0, y[1]], label=\"y\")\n",
    "plt.legend()\n",
    "plt.xlim(-1, 5)\n",
    "plt.ylim(-1, 5)\n",
    "plt.grid()\n",
    "plt.show()\n"
   ]
  },
  {
   "cell_type": "markdown",
   "metadata": {},
   "source": [
    "Notas:\n",
    "- Proponga significa que Ustedes, estudiando las propiedades de los vectores colineales propone los valores del  vector. \n",
    "- En ambos casos tome como origen el punto (0,0)\n"
   ]
  },
  {
   "cell_type": "markdown",
   "metadata": {},
   "source": [
    "---\n",
    "\n",
    "**Pregunta 5 (20 puntos, 10 pts c/u)**\n",
    "\n",
    "\n",
    "a)\n",
    "Cargue el archivo llamado \"Datos_01.csv\".\n",
    "\n",
    "¿Existen atributos colineanes? ¿Cuáles? Programe en python para mostrar su respuesta.\n",
    "\n"
   ]
  },
  {
   "cell_type": "code",
   "execution_count": null,
   "metadata": {},
   "outputs": [],
   "source": [
    "separador = \"-\"*40\n",
    "archivo = \"Datos_01.csv\"\n",
    "\n",
    "# carga el archivo en pandas\n",
    "dataFrame = pd.read_csv(archivo, header = 0, delimiter=';')\n",
    "\n",
    "# guarda el nombre de las columnas en una lista\n",
    "colNames = dataFrame.columns\n",
    "\n",
    "# muestra los primeros elementos del dataFrame\n",
    "print(separador)\n",
    "print(\"Datos en dataFrame:\")\n",
    "print(dataFrame.head() )\n",
    "\n",
    "# Convertir de pandas a numpy\n",
    "datos = pd.DataFrame(dataFrame).to_numpy()\n",
    "\n",
    "# En cada vector columna hay un atributo\n",
    "# El atributo1 está en datos[:,0]\n",
    "# El atributo2 está en datos[:,1]\n",
    "# y así sucesivamente\n",
    "\n",
    "# Programar para determinar vectores colineales\n",
    "\n"
   ]
  },
  {
   "cell_type": "markdown",
   "metadata": {},
   "source": [
    "b) \n",
    "\n",
    "En el archivo \"reales.csv\" se encuentran los valores reales de un conjunto de datos, y en el archivo \"predicciones.csv\" lo que predijo un algoritmo.\n",
    "\n",
    "Cargue ambos archivos y muestre la norma 2 y la norma 5, de la diferencia entre el real y el predicho.\n",
    "\n",
    "Finalmente, grafique el predicho y el real en un mismo gráfico para comparar."
   ]
  },
  {
   "cell_type": "code",
   "execution_count": null,
   "metadata": {},
   "outputs": [],
   "source": [
    "# carga archivos\n",
    "\n",
    "archivo = \"reales.csv\"\n",
    "dataFrameReales = pd.read_csv(archivo, header = 0)\n",
    "\n",
    "archivo = \"predicciones.csv\"\n",
    "dataFramePredichos = pd.read_csv(archivo, header = 0)\n",
    "\n",
    "\n",
    "# Convertir de pandas a numpy\n",
    "\n",
    "\n",
    "# Calcular las normas\n",
    "\n",
    "# Graficar\n"
   ]
  },
  {
   "cell_type": "code",
   "execution_count": null,
   "metadata": {},
   "outputs": [],
   "source": []
  }
 ],
 "metadata": {
  "colab": {
   "collapsed_sections": [],
   "name": "Trabajo_Práctico_1_Matemática_para_Ciencia_de_los_Datos.ipynb",
   "provenance": []
  },
  "kernelspec": {
   "display_name": "Python 3 (ipykernel)",
   "language": "python",
   "name": "python3"
  },
  "language_info": {
   "codemirror_mode": {
    "name": "ipython",
    "version": 3
   },
   "file_extension": ".py",
   "mimetype": "text/x-python",
   "name": "python",
   "nbconvert_exporter": "python",
   "pygments_lexer": "ipython3",
   "version": "3.11.3"
  }
 },
 "nbformat": 4,
 "nbformat_minor": 1
}
